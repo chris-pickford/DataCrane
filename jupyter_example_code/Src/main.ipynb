{
 "cells": [
  {
   "cell_type": "code",
   "execution_count": null,
   "metadata": {},
   "outputs": [],
   "source": [
    "#%reset"
   ]
  },
  {
   "cell_type": "code",
   "execution_count": 1,
   "metadata": {
    "ExecuteTime": {
     "end_time": "2019-08-01T09:30:35.285950Z",
     "start_time": "2019-08-01T09:30:26.301758Z"
    }
   },
   "outputs": [],
   "source": [
    "import os\n",
    "import sys\n",
    "import config as cfg\n",
    "import time\n",
    "\n",
    "import pandas as pd\n",
    "import numpy as np"
   ]
  },
  {
   "cell_type": "code",
   "execution_count": 2,
   "metadata": {
    "ExecuteTime": {
     "end_time": "2019-07-19T10:51:13.307342Z",
     "start_time": "2019-07-19T10:51:13.304290Z"
    }
   },
   "outputs": [],
   "source": [
    "PROJECT_NAME = 'DataCraneTest'\n",
    "PROJECT_START_DATE = '11-07-2019' #ENGLISH DATE FORMAT\n",
    "PROJECT_END_DATE = '' #ENGLISH DATE FORMAT"
   ]
  },
  {
   "cell_type": "code",
   "execution_count": 3,
   "metadata": {
    "ExecuteTime": {
     "end_time": "2019-07-19T10:51:13.348518Z",
     "start_time": "2019-07-19T10:51:13.335747Z"
    }
   },
   "outputs": [
    {
     "name": "stdout",
     "output_type": "stream",
     "text": [
      "The haribo package provides the following functions to use in Jupyter:\n",
      "\n",
      "set_screen_width() - sets cells to be 90% of screen width\n",
      "\n",
      "show_df(dataFrame, allRows = False) - shows all columns of a dataFrame when displayed\n",
      "\n",
      "pickle_it(data, path) - safely pickles a file\n",
      "\n",
      "from_pickle_jar(path) - safely loads a pickled file\n",
      "\n"
     ]
    },
    {
     "data": {
      "text/html": [
       "<style>.container { width:90% !important; }</style>"
      ],
      "text/plain": [
       "<IPython.core.display.HTML object>"
      ]
     },
     "metadata": {},
     "output_type": "display_data"
    }
   ],
   "source": [
    "#ROOT, PROJECT_ROOT, PACKAGE_ROOT = config.configure_environment('Local',PROJECT_NAME)\n",
    "\n",
    "config = cfg.privateConfig(cfg.OS, PROJECT_NAME)"
   ]
  },
  {
   "cell_type": "code",
   "execution_count": 4,
   "metadata": {
    "ExecuteTime": {
     "end_time": "2019-07-19T10:51:15.387571Z",
     "start_time": "2019-07-19T10:51:14.906248Z"
    }
   },
   "outputs": [],
   "source": [
    "from DataCrane.dbutility import gnrl_database_interaction as gdbi\n",
    "from DataCrane.dbutility import credentials\n",
    "from DataCrane.apiutility import gnrl_api_interaction as gapi\n",
    "from CodeCandy.haribo import jupyter as candy"
   ]
  },
  {
   "cell_type": "markdown",
   "metadata": {},
   "source": [
    "# Test MSSQL connection"
   ]
  },
  {
   "cell_type": "code",
   "execution_count": 5,
   "metadata": {
    "ExecuteTime": {
     "end_time": "2019-07-19T10:51:20.015243Z",
     "start_time": "2019-07-19T10:51:20.007086Z"
    }
   },
   "outputs": [
    {
     "name": "stdout",
     "output_type": "stream",
     "text": [
      "/Users/chrispickford/Documents/Coding/Python/Projects/DataCrane/jupyter_example_code/Src\n",
      "/Users/chrispickford/Documents/Coding/Python/Projects/DataCrane/jupyter_example_code/Logs\n",
      "DataCraneTest.log\n",
      "Log file name specified: DataCraneTest.log\n",
      "Log file set:  /Users/chrispickford/Documents/Coding/Python/Projects/DataCrane/jupyter_example_code/Logs/DataCraneTest.log\n"
     ]
    }
   ],
   "source": [
    "#newUser = credentials.Credentials()\n",
    "#newUser.capture_credentials()\n",
    "\n",
    "logFileName = PROJECT_NAME + '.log'\n",
    "_ = config.set_logging(logFileName)\n",
    "\n",
    "newUser = cfg.credentials()\n",
    "\n",
    "dataIn = {'credentials': newUser,\n",
    "         'logFileName': 'LogMSSQLQuery.log'}\n",
    "\n",
    "connection = gdbi.MSSQLConnection(config,credentials=newUser, logFileName=logFileName, server='Server_name', database='database_name')\n"
   ]
  },
  {
   "cell_type": "code",
   "execution_count": 6,
   "metadata": {
    "ExecuteTime": {
     "end_time": "2019-07-19T10:58:44.286805Z",
     "start_time": "2019-07-19T10:58:44.227080Z"
    }
   },
   "outputs": [],
   "source": [
    "??gdbi.MSSQLConnection"
   ]
  },
  {
   "cell_type": "code",
   "execution_count": null,
   "metadata": {},
   "outputs": [],
   "source": [
    "'''\n",
    "Use MSSQL_query_simple.sql to run an example piece of code without variable replacements.  \n",
    "Alternatively use MI_query.sql and set the sqlReplacement variable to point to the config file\n",
    "'''\n",
    "\n",
    "\n",
    "sqlConnection = gdbi.ExecuteSQL(\n",
    "    connection=connection, \n",
    "    query = os.path.join(config.PROJECT_ROOT,'Materials', 'example.sql'),\n",
    "    outputPath = os.path.join(config.PROJECT_ROOT,'Data', 'example.csv')\n",
    ")"
   ]
  },
  {
   "cell_type": "code",
   "execution_count": null,
   "metadata": {},
   "outputs": [],
   "source": [
    "message, data = sqlConnection.execute_script()\n",
    "data"
   ]
  },
  {
   "cell_type": "markdown",
   "metadata": {},
   "source": [
    "# Test BigQuery\n",
    "\n",
    "## Pull from BQ"
   ]
  },
  {
   "cell_type": "code",
   "execution_count": null,
   "metadata": {},
   "outputs": [],
   "source": [
    "newUser = cfg.credentials()\n",
    "\n",
    "logFileName = 'BQ_logging.log'\n",
    "_ = config.set_logging(logFileName)\n",
    "\n",
    "\n",
    "connection = gdbi.GBQConnection(config, credentials=newUser,logFileName=logFileName)"
   ]
  },
  {
   "cell_type": "code",
   "execution_count": null,
   "metadata": {},
   "outputs": [],
   "source": [
    "sqlConnection = gdbi.ExecuteSQL(\n",
    "    connection=connection,\n",
    "    query=os.path.join(config.PROJECT_ROOT,'Materials', 'bigquery.sql'),\n",
    "    outputPath=os.path.join(config.PROJECT_ROOT,'Data', 'BQ_data.csv')\n",
    ")"
   ]
  },
  {
   "cell_type": "code",
   "execution_count": null,
   "metadata": {
    "scrolled": true
   },
   "outputs": [],
   "source": [
    "message, data = sqlConnection.execute_script()\n",
    "data"
   ]
  },
  {
   "cell_type": "markdown",
   "metadata": {},
   "source": [
    "## Push to BQ"
   ]
  },
  {
   "cell_type": "code",
   "execution_count": null,
   "metadata": {},
   "outputs": [],
   "source": [
    "newUser = cfg.credentials()\n",
    "\n",
    "logFileName = 'BQ_logging.log'\n",
    "_ = config.set_logging(logFileName)\n",
    "\n",
    "\n",
    "connection2 = gdbi.GBQConnection(config, credentials=newUser,logFileName=logFileName,useLegacy=False, projectId='project_ID',if_exists='replace')"
   ]
  },
  {
   "cell_type": "code",
   "execution_count": 7,
   "metadata": {
    "ExecuteTime": {
     "end_time": "2019-07-19T10:59:45.041242Z",
     "start_time": "2019-07-19T10:59:45.019426Z"
    }
   },
   "outputs": [],
   "source": [
    "??gdbi.GBQConnection"
   ]
  },
  {
   "cell_type": "code",
   "execution_count": null,
   "metadata": {},
   "outputs": [],
   "source": [
    "sqlConnection = gdbi.ExecuteSQL(\n",
    "    connection=connection2,\n",
    "    query=data,\n",
    "    outputPath=None\n",
    ")"
   ]
  },
  {
   "cell_type": "code",
   "execution_count": null,
   "metadata": {},
   "outputs": [],
   "source": [
    "message, data = sqlConnection.execute_script(tableName='Dashboarding.test_table')\n"
   ]
  },
  {
   "cell_type": "code",
   "execution_count": null,
   "metadata": {},
   "outputs": [],
   "source": [
    "tableName='Dashboarding.test_table'\n",
    "if isinstance(data,pd.DataFrame) and tableName is not None:\n",
    "    print('yes')"
   ]
  },
  {
   "cell_type": "markdown",
   "metadata": {},
   "source": [
    "# Test Google Adwords API"
   ]
  },
  {
   "cell_type": "code",
   "execution_count": null,
   "metadata": {},
   "outputs": [],
   "source": [
    "newUser = cfg.credentials()\n",
    "\n",
    "logFileName = 'GoogleAPI_logging.log'\n",
    "_ = config.set_logging(logFileName)\n",
    "\n",
    "connection = gapi.AdwordsAPIConnection(config, os.path.join(config.PROJECT_ROOT,'Materials', 'googleads.yaml'), credentials=newUser, logFileName = logFileName)"
   ]
  },
  {
   "cell_type": "code",
   "execution_count": null,
   "metadata": {},
   "outputs": [],
   "source": [
    "dataIn = {\n",
    "    'connection': connection,\n",
    "    'query': os.path.join(config.PROJECT_ROOT,'Materials', 'APIquery.sql'),\n",
    "    'sqlReplacements': None,#config.SqlVarReplacements\n",
    "    'outputPath': os.path.join(config.PROJECT_ROOT,'Data', 'APIdata.csv'),\n",
    "    #'logFileName': 'LogAdwords.log'\n",
    "}\n",
    "\n",
    "sqlConnection = gdbi.ExecuteSQL(dataIn)"
   ]
  },
  {
   "cell_type": "code",
   "execution_count": null,
   "metadata": {},
   "outputs": [],
   "source": [
    "message, data = sqlConnection.execute_script()\n",
    "data"
   ]
  },
  {
   "cell_type": "markdown",
   "metadata": {},
   "source": [
    "# Test Google Analytics API"
   ]
  },
  {
   "cell_type": "code",
   "execution_count": null,
   "metadata": {},
   "outputs": [],
   "source": [
    "newUser = cfg.credentials()\n",
    "\n",
    "logFileName = 'GoogleAnalyticsAPI_logging.log'\n",
    "_ = config.set_logging(logFileName)\n",
    "\n",
    "connection = gapi.GaAPIConnection(config, credentials=newUser, logFileName = logFileName)"
   ]
  },
  {
   "cell_type": "code",
   "execution_count": null,
   "metadata": {},
   "outputs": [],
   "source": [
    "query = {\n",
    "    'reportRequests': [\n",
    "    {\n",
    "      'viewId': 'view_ID' ,\n",
    "      'dateRanges': [{'startDate': '7daysAgo', 'endDate': 'today'}],\n",
    "      'metrics': [{'expression': 'ga:sessions'}],\n",
    "      'dimensions': [{'name': 'ga:country'}]\n",
    "    }]}\n",
    "\n",
    "sqlConnection = gapi.ExecuteAPICall(\n",
    "    connection=connection, \n",
    "    query=query,\n",
    "    outputPath=os.path.join(config.PROJECT_ROOT,'Data', 'GA_API_data.csv')\n",
    ")"
   ]
  },
  {
   "cell_type": "code",
   "execution_count": null,
   "metadata": {},
   "outputs": [],
   "source": [
    "message, data = sqlConnection.execute_script()\n",
    "data"
   ]
  },
  {
   "cell_type": "code",
   "execution_count": null,
   "metadata": {},
   "outputs": [],
   "source": [
    "message"
   ]
  },
  {
   "cell_type": "markdown",
   "metadata": {
    "collapsed": true
   },
   "source": [
    "# Test openWeatherMap API"
   ]
  },
  {
   "cell_type": "code",
   "execution_count": null,
   "metadata": {},
   "outputs": [],
   "source": [
    "newUser = config.credentials()\n",
    "\n",
    "dataIn = {\n",
    "    'credentials': newUser,\n",
    "    'logFileName': 'LogWeather.log'\n",
    "         }\n",
    "connection = gapi.OpenWeatherMapConnection(dataIn)"
   ]
  },
  {
   "cell_type": "code",
   "execution_count": null,
   "metadata": {},
   "outputs": [],
   "source": [
    "dataIn = {\n",
    "    'connection': connection,\n",
    "    'query': os.path.join(PROJECT_ROOT,'Materials', 'cityList.txt'),\n",
    "    'sqlReplacements': None,#config.SqlVarReplacements\n",
    "    'outputPath': os.path.join(PROJECT_ROOT,'Data', 'weatherData.csv')\n",
    "}\n",
    "\n",
    "sqlConnection = gdbi.ExecuteSQL(dataIn)"
   ]
  },
  {
   "cell_type": "code",
   "execution_count": null,
   "metadata": {},
   "outputs": [],
   "source": [
    "message, data = sqlConnection.execute_script()\n",
    "data"
   ]
  },
  {
   "cell_type": "code",
   "execution_count": null,
   "metadata": {},
   "outputs": [],
   "source": [
    "message"
   ]
  },
  {
   "cell_type": "code",
   "execution_count": 6,
   "metadata": {
    "ExecuteTime": {
     "end_time": "2019-08-01T10:15:23.344050Z",
     "start_time": "2019-08-01T10:15:23.322681Z"
    }
   },
   "outputs": [
    {
     "name": "stdout",
     "output_type": "stream",
     "text": [
      "/Users/chrispickford/Documents/Coding/Python/Projects/DataCrane/jupyter_example_code/Src\n"
     ]
    },
    {
     "data": {
      "text/plain": [
       "'/Users/chrispickford/Documents/Coding/Python/Projects/DataCrane/jupyter_example_code'"
      ]
     },
     "execution_count": 6,
     "metadata": {},
     "output_type": "execute_result"
    }
   ],
   "source": [
    "cwd=os.getcwd()\n",
    "print(cwd)\n",
    "os.path.dirname(os.path.abspath(cwd))"
   ]
  },
  {
   "cell_type": "code",
   "execution_count": null,
   "metadata": {},
   "outputs": [],
   "source": []
  }
 ],
 "metadata": {
  "kernelspec": {
   "display_name": "utilityPackages",
   "language": "python",
   "name": "utilitypackages"
  },
  "language_info": {
   "codemirror_mode": {
    "name": "ipython",
    "version": 3
   },
   "file_extension": ".py",
   "mimetype": "text/x-python",
   "name": "python",
   "nbconvert_exporter": "python",
   "pygments_lexer": "ipython3",
   "version": "3.6.8"
  },
  "toc": {
   "base_numbering": 1,
   "nav_menu": {},
   "number_sections": true,
   "sideBar": true,
   "skip_h1_title": false,
   "title_cell": "Table of Contents",
   "title_sidebar": "Contents",
   "toc_cell": false,
   "toc_position": {},
   "toc_section_display": true,
   "toc_window_display": false
  },
  "varInspector": {
   "cols": {
    "lenName": 16,
    "lenType": 16,
    "lenVar": 40
   },
   "kernels_config": {
    "python": {
     "delete_cmd_postfix": "",
     "delete_cmd_prefix": "del ",
     "library": "var_list.py",
     "varRefreshCmd": "print(var_dic_list())"
    },
    "r": {
     "delete_cmd_postfix": ") ",
     "delete_cmd_prefix": "rm(",
     "library": "var_list.r",
     "varRefreshCmd": "cat(var_dic_list()) "
    }
   },
   "types_to_exclude": [
    "module",
    "function",
    "builtin_function_or_method",
    "instance",
    "_Feature"
   ],
   "window_display": false
  }
 },
 "nbformat": 4,
 "nbformat_minor": 2
}
